{
 "cells": [
  {
   "cell_type": "code",
   "execution_count": 68,
   "metadata": {},
   "outputs": [],
   "source": [
    "import sympy as sp\n",
    "from sympy import symbols, IndexedBase, Idx, Eq, Function\n",
    "from sympy.abc import i, j, k"
   ]
  },
  {
   "cell_type": "code",
   "execution_count": 75,
   "metadata": {},
   "outputs": [],
   "source": [
    "# Number of time steps\n",
    "n = 10\n",
    "# Time step \n",
    "delta = symbols(\"Delta\")\n",
    "\n",
    "# Initial position\n",
    "x1_0, x2_0 = symbols(r\"x_{1_0} x_{2_0}\")\n",
    "# Target function: f(x1, x2) -> R\n",
    "f = Function(\"f\")\n",
    "\n",
    "# Control inputs\n",
    "u1 = IndexedBase(\"u1\", shape=(n))\n",
    "u2 = IndexedBase(\"u2\", shape=(n))\n",
    "\n",
    "# State variables\n",
    "x1 = delta * sp.Sum(u1[k], (k, 0, j)) + x1_0\n",
    "x2 = delta * sp.Sum(u2[k], (k, 0, j)) + x2_0\n",
    "\n",
    "# Cost: J = sum_{j=0}^{n} f(x1, x2)\n",
    "cost = sp.Sum(\n",
    "    f(x1, x2),\n",
    "    (j, 0, n),\n",
    ")"
   ]
  },
  {
   "cell_type": "code",
   "execution_count": 76,
   "metadata": {},
   "outputs": [],
   "source": [
    "\n",
    "# Derivative of the cost function with respect to u1, u2 at each time step\n",
    "grad_u1_i = [sp.diff(cost, u1[i]) for i in range(n)]\n",
    "grad_u2_i = [sp.diff(cost, u2[i]) for i in range(n)]\n",
    "\n",
    "grad = [v for grad in list(zip(grad_u1_i, grad_u2_i)) for v in grad]"
   ]
  },
  {
   "cell_type": "code",
   "execution_count": 77,
   "metadata": {},
   "outputs": [
    {
     "data": {
      "text/latex": [
       "$\\displaystyle \\sum_{j=0}^{10} \\Delta \\left(\\left. \\frac{\\partial}{\\partial \\xi_{1}} f{\\left(\\xi_{1},\\Delta \\sum_{k=0}^{j} {u_{2}}_{k} + x_{2_0} \\right)} \\right|_{\\substack{ \\xi_{1}=\\Delta \\sum_{k=0}^{j} {u_{1}}_{k} + x_{1_0} }}\\right) \\sum_{k=0}^{j} \\delta_{0 k}$"
      ],
      "text/plain": [
       "Sum(Delta*Subs(Derivative(f(_xi_1, Delta*Sum(u2[k], (k, 0, j)) + x_{2_0}), _xi_1), _xi_1, Delta*Sum(u1[k], (k, 0, j)) + x_{1_0})*Sum(KroneckerDelta(0, k), (k, 0, j)), (j, 0, 10))"
      ]
     },
     "execution_count": 77,
     "metadata": {},
     "output_type": "execute_result"
    }
   ],
   "source": [
    "grad[0]"
   ]
  }
 ],
 "metadata": {
  "kernelspec": {
   "display_name": "Python 3",
   "language": "python",
   "name": "python3"
  },
  "language_info": {
   "codemirror_mode": {
    "name": "ipython",
    "version": 3
   },
   "file_extension": ".py",
   "mimetype": "text/x-python",
   "name": "python",
   "nbconvert_exporter": "python",
   "pygments_lexer": "ipython3",
   "version": "3.10.12"
  }
 },
 "nbformat": 4,
 "nbformat_minor": 2
}
