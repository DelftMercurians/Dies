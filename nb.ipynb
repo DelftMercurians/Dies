{
 "cells": [
  {
   "cell_type": "code",
   "execution_count": null,
   "id": "542d8ae6",
   "metadata": {},
   "outputs": [],
   "source": [
    "import pandas as pd\n",
    "import numpy as np\n",
    "import matplotlib.pyplot as plt"
   ]
  },
  {
   "cell_type": "code",
   "execution_count": null,
   "id": "c89100ee",
   "metadata": {},
   "outputs": [],
   "source": [
    "df = pd.read_csv('calibration_data.csv')\n",
    "ball_speed = np.sqrt(df['ball_vel_x']**2 + df['ball_vel_y']**2 + df['ball_vel_z']**2)\n",
    "plt.plot(df['timestamp_received'], ball_speed)\n",
    "plt.xlabel('Time (s)')\n",
    "plt.ylabel('Ball Speed (mm/s)')\n",
    "plt.show()"
   ]
  }
 ],
 "metadata": {
  "language_info": {
   "name": "python"
  }
 },
 "nbformat": 4,
 "nbformat_minor": 5
}
