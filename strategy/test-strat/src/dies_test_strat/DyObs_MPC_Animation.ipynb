{
 "cells": [
  {
   "cell_type": "markdown",
   "metadata": {},
   "source": [
    "### Import"
   ]
  },
  {
   "cell_type": "code",
   "execution_count": 5,
   "metadata": {},
   "outputs": [],
   "source": [
    "# Libraries\n",
    "import sys\n",
    "import numpy as np\n",
    "import casadi as ca\n",
    "import matplotlib.pyplot as plt\n",
    "from matplotlib.animation import FuncAnimation\n",
    "from IPython.display import HTML\n",
    "import random\n",
    "from tqdm import tqdm\n",
    "\n",
    "# Files\n",
    "from vehicle import *"
   ]
  },
  {
   "cell_type": "code",
   "execution_count": 5,
   "metadata": {},
   "outputs": [],
   "source": [
    "# num_states = 2\n",
    "# num_inputs = 2\n",
    "\n",
    "\n",
    "# def mpc_control(\n",
    "#     vehicle,\n",
    "#     N,\n",
    "#     x_init,\n",
    "#     u_init,\n",
    "#     x_target,\n",
    "#     pos_constraints,\n",
    "#     vel_constraints,\n",
    "#     # acc_constraints,\n",
    "#     obstacles,\n",
    "#     move_obstacles,\n",
    "#     last_plan,\n",
    "#     max_vel=1,\n",
    "#     v_max_penalty=100,\n",
    "# ):\n",
    "#     # Create an optimization problem\n",
    "#     opti = ca.Opti()\n",
    "\n",
    "#     # State & Input matrix\n",
    "#     Q = np.eye(2) * 0.01\n",
    "#     R = np.eye(2) * 0.001\n",
    "\n",
    "#     # Define Variables\n",
    "#     x = opti.variable(num_states, N + 1)\n",
    "#     u = opti.variable(num_inputs, N)\n",
    "\n",
    "#     # Initialize Cost & Constraints\n",
    "#     cost = 0.0\n",
    "\n",
    "#     # Init Constraint\n",
    "#     opti.subject_to(x[:, 0] == x_init)\n",
    "\n",
    "#     # Loop through time steps\n",
    "#     for k in range(N):\n",
    "#         # State Constraints\n",
    "#         opti.subject_to(x[:, k] >= [pos_constraints[0], pos_constraints[2]])\n",
    "#         opti.subject_to(x[:, k] <= [pos_constraints[1], pos_constraints[3]])\n",
    "#         opti.subject_to(u[:, k] >= [vel_constraints[0], vel_constraints[2]])\n",
    "#         opti.subject_to(u[:, k] <= [vel_constraints[1], vel_constraints[3]])\n",
    "\n",
    "#         # Acceleration constraint\n",
    "#         # TODO\n",
    "\n",
    "#         for obstacle in obstacles:\n",
    "#             euclid_distance = ca.norm_2(\n",
    "#                 (x[0:2, k] - np.array(obstacle[0:2]).reshape(2, 1))\n",
    "#                 + np.ones((2, 1)) * sys.float_info.epsilon\n",
    "#             )\n",
    "#             opti.subject_to(euclid_distance >= obstacle[2])\n",
    "#             # cost += 100 / ((euclid_distance - obstacle[2]) ** 2 + sys.float_info.epsilon)\n",
    "\n",
    "#         # Dynamics Constraint\n",
    "#         opti.subject_to(x[:, k + 1] == vehicle.A @ x[:, k] + vehicle.B @ u[:, k])\n",
    "\n",
    "#         # Cost function\n",
    "#         e_k = ca.sqrt((x_target - x[:, k]) ** 2)\n",
    "#         cost += ca.mtimes(e_k.T, Q @ e_k) + ca.mtimes(u[:, k].T, R @ u[:, k])\n",
    "\n",
    "#     # Cost last state\n",
    "#     e_N = ca.sqrt((x_target - x[:, -1]) ** 2)\n",
    "#     cost += ca.mtimes(e_N.T, Q @ e_N) + ca.mtimes(u[:, -1].T, R @ u[:, -1])\n",
    "\n",
    "#     # Warm start\n",
    "#     if last_plan is not None:\n",
    "#         opti.set_initial(x, last_plan)\n",
    "#     else:\n",
    "#         # Setup initial guess for states (interpolate between x_init and x_target)\n",
    "#         for k in range(N + 1):\n",
    "#             x_guess = x_init + (x_target - x_init) * k / N\n",
    "#             # x_guess[6] = 0  # Set initial guess for speed in z direction to zero\n",
    "#             opti.set_initial(x[:, k], x_guess)\n",
    "\n",
    "#     # Define Problem in solver\n",
    "#     opti.minimize(cost)\n",
    "\n",
    "#     opts = {\n",
    "#         \"print_time\": 0,\n",
    "#         # \"tol\": 0.01,\n",
    "#         # \"gamma_theta\": 1e-2\n",
    "#     }  # Set the verbosity level (0-12, default is 5)\n",
    "#     opti.solver(\n",
    "#         \"ipopt\",\n",
    "#         {\n",
    "#             \"ipopt.print_level\": 0,\n",
    "#             \"print_time\": 0,\n",
    "#         },\n",
    "#         opts,\n",
    "#     )\n",
    "\n",
    "#     # Run Solver\n",
    "#     try:\n",
    "#         # opti.callback(lambda i: print( opti.debug.value(x[:, :i]) ))\n",
    "#         sol = opti.solve()\n",
    "#         optimal_solution_u = sol.value(u)\n",
    "#         optimal_solution_x = sol.value(x)\n",
    "#         optimal_cost = sol.value(cost)\n",
    "#         # print(\"Optimal cost:\", optimal_cost)\n",
    "#     except RuntimeError:\n",
    "#         print(\"Solver failed to find a solution.\")\n",
    "#         opti.debug.show_infeasibilities()\n",
    "#         x = opti.debug.value(x)\n",
    "#         u = opti.debug.value(u)\n",
    "#         return u[:, 0], x[:, 1], x, False\n",
    "\n",
    "#     return optimal_solution_u[:, 0], optimal_solution_x[:, 1], optimal_solution_x, True"
   ]
  },
  {
   "cell_type": "code",
   "execution_count": 1,
   "metadata": {},
   "outputs": [
    {
     "data": {
      "text/plain": [
       "[1, 2, 3, 4, 5, 6, 7, 8, 9]"
      ]
     },
     "execution_count": 1,
     "metadata": {},
     "output_type": "execute_result"
    }
   ],
   "source": [
    "list(range(1, 10))"
   ]
  },
  {
   "cell_type": "code",
   "execution_count": 64,
   "metadata": {},
   "outputs": [],
   "source": [
    "num_states = 2\n",
    "num_inputs = 2\n",
    "\n",
    "\n",
    "def mpc_control(\n",
    "    vehicle,\n",
    "    N,\n",
    "    x_init,\n",
    "    u_init,\n",
    "    x_target,\n",
    "    pos_constraints,\n",
    "    vel_constraints,\n",
    "    # acc_constraints,\n",
    "    obstacles,\n",
    "    move_obstacles,\n",
    "    dt,\n",
    "    last_plan,\n",
    "    max_vel=1,\n",
    "    v_max_penalty=100,\n",
    "):\n",
    "    # Create an optimization problem\n",
    "    opti = ca.Opti()\n",
    "\n",
    "    # State & Input matrix\n",
    "    Q = np.eye(2) * 0.04\n",
    "    R = np.eye(2) * 0.06\n",
    "\n",
    "    # Define Variables\n",
    "    x = opti.variable(num_states, N + 1)\n",
    "    u = opti.variable(num_inputs, N)\n",
    "\n",
    "    # Initialize Cost & Constraints\n",
    "    cost = 0.0\n",
    "    constraints = []\n",
    "\n",
    "    # Init Constraint\n",
    "    constraints += [x[:, 0] == x_init]\n",
    "    # constraints += [u[:, 0] == u_init]\n",
    "\n",
    "    # Loop through time steps\n",
    "    for k in range(N):\n",
    "        # State Constraints\n",
    "        # constraints += [x[:, k] >= [pos_constraints[0], pos_constraints[2]]]\n",
    "        # constraints += [x[:, k] <= [pos_constraints[1], pos_constraints[3]]]\n",
    "        # constraints += [u[:, k] >= [vel_constraints[0], vel_constraints[2]]]\n",
    "        # constraints += [u[:, k] <= [vel_constraints[1], vel_constraints[3]]]\n",
    "\n",
    "        # for obstacle in obstacles:\n",
    "        #     euclid_distance = ca.norm_2(\n",
    "        #         x[0:2, k] - np.array(obstacle[0:2]).reshape(2, 1)\n",
    "        #     )\n",
    "        #     constraints += [euclid_distance >= obstacle[2] + 0.01]\n",
    "            # cost += 100/((euclid_distance-obstacle[2])**2 + 0.01)\n",
    "\n",
    "        # Dynamics Constraint\n",
    "        kappa = 5.0  # Controls steepness of the smooth sign function\n",
    "        beta = 50.0  # Controls transition sharpness in soft condition\n",
    "        velocity_res = 0.0001  # Velocity resolution\n",
    "        acceleration = 0.2  # Acceleration value\n",
    "        \n",
    "        xdot = (x[:, k] - x[:, k - 1]) / dt if k > 0 else np.zeros((2, 1))\n",
    "        u_diff = u[:, k] - xdot\n",
    "\n",
    "        # Soft conditional update\n",
    "        smooth_sign = ca.tanh(kappa * u_diff)\n",
    "        norm_u_diff = ca.norm_2(u_diff)  # Euclidean norm of u_diff\n",
    "        soft_condition = 1 / (1 + ca.exp(-beta * (norm_u_diff - velocity_res)))\n",
    "        constraints += [x[:, k + 1] == x[:, k] + (xdot + smooth_sign * acceleration * dt * soft_condition) * dt]\n",
    "\n",
    "        # Cost function\n",
    "        e_k = x_target - x[:, k]\n",
    "        cost += ca.mtimes(e_k.T, Q @ e_k) + ca.mtimes(u[:, k].T, R @ u[:, k])\n",
    "\n",
    "    # Cost last state\n",
    "    # e_N = x_target - x[:, -1]\n",
    "    # cost += ca.mtimes(e_N.T, Q @ e_N) + ca.mtimes(u[:, -1].T, R @ u[:, -1])\n",
    "\n",
    "    # Warm start\n",
    "    if last_plan is not None:\n",
    "        opti.set_initial(x, last_plan)\n",
    "    else:\n",
    "        # Setup initial guess for states (interpolate between x_init and x_target)\n",
    "        for k in range(N + 1):\n",
    "            x_guess = x_init + (x_target - x_init) * k * dt * 0.04\n",
    "            opti.set_initial(x[:, k], x_guess)\n",
    "    \n",
    "    # def callback(i):\n",
    "    #         # Print all contraint values\n",
    "    #         print(\"Constraint values at iteration\", i)\n",
    "    #         for c in constraints:\n",
    "    #             print(opti.debug.value(c))\n",
    "                \n",
    "    # opti.callback(callback)\n",
    "\n",
    "    # Define Problem in solver\n",
    "    opti.minimize(cost)\n",
    "    opti.subject_to(constraints)\n",
    "\n",
    "    opts = {\n",
    "        \"ipopt.print_level\": 0,\n",
    "        \"print_time\": 0,\n",
    "    }  # Set the verbosity level (0-12, default is 5)\n",
    "    opti.solver(\n",
    "        \"ipopt\",\n",
    "        opts,\n",
    "        opts,\n",
    "    )\n",
    "\n",
    "    # Run Solver\n",
    "    try:\n",
    "        sol = opti.solve()\n",
    "        optimal_solution_u = sol.value(u)\n",
    "        optimal_solution_x = sol.value(x)\n",
    "        # optimal_cost = sol.value(cost)\n",
    "    except RuntimeError:\n",
    "        print(\"Solver failed to find a solution.\")\n",
    "        opti.debug.x_describe(0)\n",
    "        opti.debug.g_describe(0)\n",
    "\n",
    "        # opti.debug.show_infeasibilities()\n",
    "        x = opti.debug.value(x)\n",
    "        u = opti.debug.value(u)\n",
    "        return u[:, 0], x[:, 1], x, False\n",
    "\n",
    "    return optimal_solution_u[:, 0], optimal_solution_x[:, 1], optimal_solution_x, True"
   ]
  },
  {
   "cell_type": "code",
   "execution_count": 3,
   "metadata": {},
   "outputs": [],
   "source": [
    "def simulate(\n",
    "    simulation_len,\n",
    "    x_init,\n",
    "    x_target,\n",
    "    obstacles,  # [center_x, center_y, radius]\n",
    "    dt,  # Time step [s]\n",
    "    N,  # Time Horizon\n",
    "    pos_constraints,  # Position Constraints [m]:    [x_min, x_max, y_min, y_max]\n",
    "    vel_constraints,  # Velocity Constraints [m/s]:    [v_x_min, v_x_max, v_y_min, v_y_max]\n",
    "    acc_constraints,  # Acceleration Constraints [m/s^2]:    [x_min, x_max, y_min, y_max]\n",
    "    velocity_res,  # m/s\n",
    "    acceleration,  # m/s^2\n",
    "):\n",
    "    vehicle = vehicle_SS(dt)\n",
    "\n",
    "    ## Timesteps\n",
    "    timesteps = np.arange(0, simulation_len, dt)\n",
    "    print(f\"Timesteps: {len(timesteps)}\")\n",
    "\n",
    "    # Initialise the output arrays\n",
    "    x = np.zeros((num_states, len(timesteps) + 1))\n",
    "    xdot = np.zeros((num_states, len(timesteps) + 1))\n",
    "    u = np.zeros((num_inputs, len(timesteps)))\n",
    "    plans = np.zeros((num_states, N + 1, len(timesteps)))\n",
    "\n",
    "    initial_guess_x = None\n",
    "\n",
    "    x[:, 0] = np.array(x_init)\n",
    "    x_target = np.array(x_target)\n",
    "    for t in tqdm(range(len(timesteps)), total=len(timesteps)):\n",
    "        # Compute the control input\n",
    "        xdot_prev = xdot[:, max(0, t - 1)]\n",
    "        u_out, _, plan, succ = mpc_control(\n",
    "            vehicle=vehicle,\n",
    "            N=N,\n",
    "            x_init=x[:, t],\n",
    "            u_init=xdot_prev,\n",
    "            x_target=x_target,\n",
    "            pos_constraints=pos_constraints,\n",
    "            vel_constraints=vel_constraints,\n",
    "            max_vel=0.08,\n",
    "            v_max_penalty=300,\n",
    "            obstacles=obstacles,\n",
    "            move_obstacles=[],\n",
    "            last_plan=initial_guess_x,\n",
    "            dt=dt,\n",
    "        )\n",
    "        u[:, t] = u_out\n",
    "        plans[:, :, t] = plan\n",
    "        initial_guess_x = plan\n",
    "        \n",
    "        if not succ:\n",
    "            print(f\"Failed to find a solution at t={t}\")\n",
    "            return x[:, :t+1], xdot[:, :t+1], u[:, :t+1], plans[:, :, :t+1], timesteps, obstacles\n",
    "\n",
    "        # Apply the control input to the system\n",
    "        u_diff = u_out - xdot[:, t]\n",
    "        xdot[:, t + 1] = (\n",
    "            xdot[:, t] + np.sign(u_diff) * acceleration * dt\n",
    "            if np.linalg.norm(u_diff) > velocity_res\n",
    "            else xdot[:, t]\n",
    "        )\n",
    "        x[:, t + 1] = xdot[:, t] * dt + x[:, t]\n",
    "\n",
    "    return x, xdot, u, plans, timesteps, obstacles"
   ]
  },
  {
   "cell_type": "code",
   "execution_count": 6,
   "metadata": {},
   "outputs": [],
   "source": [
    "pos_constraints = [\n",
    "    -2,\n",
    "    2,\n",
    "    -2.5,\n",
    "    2.5,\n",
    "]\n",
    "vel_constraints = [\n",
    "    -0.08,\n",
    "    0.08,\n",
    "    -0.08,\n",
    "    0.08,\n",
    "]\n",
    "\n",
    "x_init=[-1, -1]\n",
    "x_target=[1, 1]\n",
    "obstacles = np.array([[0.1, 0.1, 0.09]])"
   ]
  },
  {
   "cell_type": "code",
   "execution_count": 65,
   "metadata": {},
   "outputs": [
    {
     "name": "stdout",
     "output_type": "stream",
     "text": [
      "Timesteps: 900\n"
     ]
    },
    {
     "name": "stderr",
     "output_type": "stream",
     "text": [
      "  0%|          | 0/900 [00:00<?, ?it/s]CasADi - 2024-02-09 17:52:55 WARNING(\"solver:nlp_jac_g failed: NaN detected for output jac_g_x, at nonzero index 46 (row 2, col 12).\") [.../casadi/core/oracle_function.cpp:377]\n",
      "CasADi - 2024-02-09 17:52:55 WARNING(\"solver:nlp_jac_g failed: NaN detected for output jac_g_x, at nonzero index 46 (row 2, col 12).\") [.../casadi/core/oracle_function.cpp:377]\n",
      "  0%|          | 0/900 [00:00<?, ?it/s]"
     ]
    },
    {
     "name": "stdout",
     "output_type": "stream",
     "text": [
      "Solver failed to find a solution.\n",
      "Failed to find a solution at t=0\n"
     ]
    },
    {
     "name": "stderr",
     "output_type": "stream",
     "text": [
      "\n"
     ]
    }
   ],
   "source": [
    "x, xdot, u, plans, timesteps, obstacles = simulate(\n",
    "    simulation_len=30,\n",
    "    x_init=x_init,\n",
    "    x_target=x_target,\n",
    "    obstacles=obstacles,\n",
    "    dt=1 / 30,  # Time step [s]\n",
    "    N=5,  # Time Horizon\n",
    "    pos_constraints=pos_constraints,\n",
    "    vel_constraints=vel_constraints,\n",
    "    acc_constraints=[\n",
    "        -1,\n",
    "        1,\n",
    "        -1,\n",
    "        1,\n",
    "    ],  # Acceleration Constraints [m/s^2]:    [x_min, x_max, y_min, y_max]\n",
    "    velocity_res=0.0001,  # m/s\n",
    "    acceleration=0.2,  # m/s^2\n",
    ")"
   ]
  },
  {
   "cell_type": "code",
   "execution_count": 51,
   "metadata": {},
   "outputs": [
    {
     "data": {
      "text/plain": [
       "<matplotlib.legend.Legend at 0x7fadd41fbd50>"
      ]
     },
     "execution_count": 51,
     "metadata": {},
     "output_type": "execute_result"
    },
    {
     "data": {
      "image/png": "[encoded data removed]",
      "text/plain": [
       "<Figure size 640x480 with 1 Axes>"
      ]
     },
     "metadata": {},
     "output_type": "display_data"
    }
   ],
   "source": [
    "plt.scatter(plans[0, :, :], plans[1, :, :], label=\"plan\")\n",
    "plt.scatter(x[0, :], x[1, :], label=\"x\")\n",
    "plt.scatter(x_target[0], x_target[1], label=\"target\")\n",
    "# plt.scatter(obstacles[:, 0], obstacles[:, 1], label=\"obstacles\")\n",
    "# Draw the obstacles with radius\n",
    "for i in range(len(obstacles)):\n",
    "    plt.gca().add_patch(plt.Circle((obstacles[i, 0], obstacles[i, 1]), obstacles[i, 2], color='r', fill=False))\n",
    "plt.legend()"
   ]
  },
  {
   "cell_type": "code",
   "execution_count": 53,
   "metadata": {},
   "outputs": [
    {
     "data": {
      "text/plain": [
       "((901,), (2, 901))"
      ]
     },
     "execution_count": 53,
     "metadata": {},
     "output_type": "execute_result"
    }
   ],
   "source": [
    "np.linalg.norm(x, axis=0).shape, x.shape"
   ]
  },
  {
   "cell_type": "code",
   "execution_count": 54,
   "metadata": {},
   "outputs": [
    {
     "data": {
      "text/plain": [
       "754"
      ]
     },
     "execution_count": 54,
     "metadata": {},
     "output_type": "execute_result"
    }
   ],
   "source": [
    "np.argmax(np.linalg.norm(x, axis=0))"
   ]
  },
  {
   "cell_type": "code",
   "execution_count": 40,
   "metadata": {},
   "outputs": [
    {
     "data": {
      "image/png": "[encoded data removed]",
      "text/plain": [
       "<Figure size 640x480 with 1 Axes>"
      ]
     },
     "metadata": {},
     "output_type": "display_data"
    },
    {
     "ename": "ValueError",
     "evalue": "attempt to get argmax of an empty sequence",
     "output_type": "error",
     "traceback": [
      "\u001b[0;31m---------------------------------------------------------------------------\u001b[0m",
      "\u001b[0;31mValueError\u001b[0m                                Traceback (most recent call last)",
      "Cell \u001b[0;32mIn[40], line 5\u001b[0m\n\u001b[1;32m      3\u001b[0m plt\u001b[38;5;241m.\u001b[39mplot(slope)\n\u001b[1;32m      4\u001b[0m plt\u001b[38;5;241m.\u001b[39mshow()\n\u001b[0;32m----> 5\u001b[0m np\u001b[38;5;241m.\u001b[39margmax(slope)\n",
      "File \u001b[0;32m~/anaconda3/lib/python3.11/site-packages/numpy/core/fromnumeric.py:1229\u001b[0m, in \u001b[0;36margmax\u001b[0;34m(a, axis, out, keepdims)\u001b[0m\n\u001b[1;32m   1142\u001b[0m \u001b[38;5;250m\u001b[39m\u001b[38;5;124;03m\"\"\"\u001b[39;00m\n\u001b[1;32m   1143\u001b[0m \u001b[38;5;124;03mReturns the indices of the maximum values along an axis.\u001b[39;00m\n\u001b[1;32m   1144\u001b[0m \n\u001b[0;32m   (...)\u001b[0m\n\u001b[1;32m   1226\u001b[0m \u001b[38;5;124;03m(2, 1, 4)\u001b[39;00m\n\u001b[1;32m   1227\u001b[0m \u001b[38;5;124;03m\"\"\"\u001b[39;00m\n\u001b[1;32m   1228\u001b[0m kwds \u001b[38;5;241m=\u001b[39m {\u001b[38;5;124m'\u001b[39m\u001b[38;5;124mkeepdims\u001b[39m\u001b[38;5;124m'\u001b[39m: keepdims} \u001b[38;5;28;01mif\u001b[39;00m keepdims \u001b[38;5;129;01mis\u001b[39;00m \u001b[38;5;129;01mnot\u001b[39;00m np\u001b[38;5;241m.\u001b[39m_NoValue \u001b[38;5;28;01melse\u001b[39;00m {}\n\u001b[0;32m-> 1229\u001b[0m \u001b[38;5;28;01mreturn\u001b[39;00m _wrapfunc(a, \u001b[38;5;124m'\u001b[39m\u001b[38;5;124margmax\u001b[39m\u001b[38;5;124m'\u001b[39m, axis\u001b[38;5;241m=\u001b[39maxis, out\u001b[38;5;241m=\u001b[39mout, \u001b[38;5;241m*\u001b[39m\u001b[38;5;241m*\u001b[39mkwds)\n",
      "File \u001b[0;32m~/anaconda3/lib/python3.11/site-packages/numpy/core/fromnumeric.py:59\u001b[0m, in \u001b[0;36m_wrapfunc\u001b[0;34m(obj, method, *args, **kwds)\u001b[0m\n\u001b[1;32m     56\u001b[0m     \u001b[38;5;28;01mreturn\u001b[39;00m _wrapit(obj, method, \u001b[38;5;241m*\u001b[39margs, \u001b[38;5;241m*\u001b[39m\u001b[38;5;241m*\u001b[39mkwds)\n\u001b[1;32m     58\u001b[0m \u001b[38;5;28;01mtry\u001b[39;00m:\n\u001b[0;32m---> 59\u001b[0m     \u001b[38;5;28;01mreturn\u001b[39;00m bound(\u001b[38;5;241m*\u001b[39margs, \u001b[38;5;241m*\u001b[39m\u001b[38;5;241m*\u001b[39mkwds)\n\u001b[1;32m     60\u001b[0m \u001b[38;5;28;01mexcept\u001b[39;00m \u001b[38;5;167;01mTypeError\u001b[39;00m:\n\u001b[1;32m     61\u001b[0m     \u001b[38;5;66;03m# A TypeError occurs if the object does have such a method in its\u001b[39;00m\n\u001b[1;32m     62\u001b[0m     \u001b[38;5;66;03m# class, but its signature is not identical to that of NumPy's. This\u001b[39;00m\n\u001b[0;32m   (...)\u001b[0m\n\u001b[1;32m     66\u001b[0m     \u001b[38;5;66;03m# Call _wrapit from within the except clause to ensure a potential\u001b[39;00m\n\u001b[1;32m     67\u001b[0m     \u001b[38;5;66;03m# exception has a traceback chain.\u001b[39;00m\n\u001b[1;32m     68\u001b[0m     \u001b[38;5;28;01mreturn\u001b[39;00m _wrapit(obj, method, \u001b[38;5;241m*\u001b[39margs, \u001b[38;5;241m*\u001b[39m\u001b[38;5;241m*\u001b[39mkwds)\n",
      "\u001b[0;31mValueError\u001b[0m: attempt to get argmax of an empty sequence"
     ]
    }
   ],
   "source": [
    "# Calculate x slope\n",
    "slope = np.linalg.norm((x[:, 1:] - x[:, :-1]), axis=0) / (1/30)\n",
    "plt.plot(slope)\n",
    "plt.show()\n",
    "np.argmax(slope)"
   ]
  },
  {
   "cell_type": "code",
   "execution_count": 41,
   "metadata": {},
   "outputs": [
    {
     "data": {
      "image/png": "[encoded data removed]",
      "text/plain": [
       "<Figure size 640x480 with 1 Axes>"
      ]
     },
     "metadata": {},
     "output_type": "display_data"
    }
   ],
   "source": [
    "plt.plot(np.linalg.norm(x, axis=0))\n",
    "plt.show()"
   ]
  },
  {
   "cell_type": "code",
   "execution_count": 153,
   "metadata": {},
   "outputs": [
    {
     "data": {
      "text/plain": [
       "<matplotlib.legend.Legend at 0x7f65839939d0>"
      ]
     },
     "execution_count": 153,
     "metadata": {},
     "output_type": "execute_result"
    },
    {
     "data": {
      "image/png": "[encoded data removed]",
      "text/plain": [
       "<Figure size 640x480 with 1 Axes>"
      ]
     },
     "metadata": {},
     "output_type": "display_data"
    }
   ],
   "source": [
    "plt.plot(np.linalg.norm(xdot[:, -100:], axis=0), label=\"velocity\")\n",
    "plt.plot(np.linalg.norm(u[:, -100:], axis=0), label=\"u\")\n",
    "# plt.ylim(0, 0.075)\n",
    "plt.legend()"
   ]
  },
  {
   "cell_type": "code",
   "execution_count": 5,
   "metadata": {},
   "outputs": [
    {
     "name": "stderr",
     "output_type": "stream",
     "text": [
      "Animation size has reached 20977754 bytes, exceeding the limit of 20971520.0. If you're sure you want a larger animation embedded, set the animation.embed_limit rc parameter to a larger value (in MB). This and further frames will be dropped.\n"
     ]
    },
    {
     "ename": "KeyboardInterrupt",
     "evalue": "",
     "output_type": "error",
     "traceback": [
      "\u001b[0;31m---------------------------------------------------------------------------\u001b[0m",
      "\u001b[0;31mKeyboardInterrupt\u001b[0m                         Traceback (most recent call last)",
      "Cell \u001b[0;32mIn[5], line 30\u001b[0m\n\u001b[1;32m     27\u001b[0m ani \u001b[38;5;241m=\u001b[39m FuncAnimation(fig, update, frames\u001b[38;5;241m=\u001b[39m\u001b[38;5;28mlen\u001b[39m(x[\u001b[38;5;241m1\u001b[39m]), interval\u001b[38;5;241m=\u001b[39m\u001b[38;5;241m50\u001b[39m)\n\u001b[1;32m     29\u001b[0m \u001b[38;5;66;03m# Display the animation within the Jupyter Notebook using HTML\u001b[39;00m\n\u001b[0;32m---> 30\u001b[0m HTML(ani\u001b[38;5;241m.\u001b[39mto_jshtml())\n",
      "File \u001b[0;32m~/anaconda3/lib/python3.11/site-packages/matplotlib/animation.py:1353\u001b[0m, in \u001b[0;36mAnimation.to_jshtml\u001b[0;34m(self, fps, embed_frames, default_mode)\u001b[0m\n\u001b[1;32m   1349\u001b[0m         path \u001b[38;5;241m=\u001b[39m Path(tmpdir, \u001b[38;5;124m\"\u001b[39m\u001b[38;5;124mtemp.html\u001b[39m\u001b[38;5;124m\"\u001b[39m)\n\u001b[1;32m   1350\u001b[0m         writer \u001b[38;5;241m=\u001b[39m HTMLWriter(fps\u001b[38;5;241m=\u001b[39mfps,\n\u001b[1;32m   1351\u001b[0m                             embed_frames\u001b[38;5;241m=\u001b[39membed_frames,\n\u001b[1;32m   1352\u001b[0m                             default_mode\u001b[38;5;241m=\u001b[39mdefault_mode)\n\u001b[0;32m-> 1353\u001b[0m         \u001b[38;5;28mself\u001b[39m\u001b[38;5;241m.\u001b[39msave(\u001b[38;5;28mstr\u001b[39m(path), writer\u001b[38;5;241m=\u001b[39mwriter)\n\u001b[1;32m   1354\u001b[0m         \u001b[38;5;28mself\u001b[39m\u001b[38;5;241m.\u001b[39m_html_representation \u001b[38;5;241m=\u001b[39m path\u001b[38;5;241m.\u001b[39mread_text()\n\u001b[1;32m   1356\u001b[0m \u001b[38;5;28;01mreturn\u001b[39;00m \u001b[38;5;28mself\u001b[39m\u001b[38;5;241m.\u001b[39m_html_representation\n",
      "File \u001b[0;32m~/anaconda3/lib/python3.11/site-packages/matplotlib/animation.py:1105\u001b[0m, in \u001b[0;36mAnimation.save\u001b[0;34m(self, filename, writer, fps, dpi, codec, bitrate, extra_args, metadata, extra_anim, savefig_kwargs, progress_callback)\u001b[0m\n\u001b[1;32m   1102\u001b[0m \u001b[38;5;28;01mfor\u001b[39;00m data \u001b[38;5;129;01min\u001b[39;00m \u001b[38;5;28mzip\u001b[39m(\u001b[38;5;241m*\u001b[39m[a\u001b[38;5;241m.\u001b[39mnew_saved_frame_seq() \u001b[38;5;28;01mfor\u001b[39;00m a \u001b[38;5;129;01min\u001b[39;00m all_anim]):\n\u001b[1;32m   1103\u001b[0m     \u001b[38;5;28;01mfor\u001b[39;00m anim, d \u001b[38;5;129;01min\u001b[39;00m \u001b[38;5;28mzip\u001b[39m(all_anim, data):\n\u001b[1;32m   1104\u001b[0m         \u001b[38;5;66;03m# TODO: See if turning off blit is really necessary\u001b[39;00m\n\u001b[0;32m-> 1105\u001b[0m         anim\u001b[38;5;241m.\u001b[39m_draw_next_frame(d, blit\u001b[38;5;241m=\u001b[39m\u001b[38;5;28;01mFalse\u001b[39;00m)\n\u001b[1;32m   1106\u001b[0m         \u001b[38;5;28;01mif\u001b[39;00m progress_callback \u001b[38;5;129;01mis\u001b[39;00m \u001b[38;5;129;01mnot\u001b[39;00m \u001b[38;5;28;01mNone\u001b[39;00m:\n\u001b[1;32m   1107\u001b[0m             progress_callback(frame_number, total_frames)\n",
      "File \u001b[0;32m~/anaconda3/lib/python3.11/site-packages/matplotlib/animation.py:1141\u001b[0m, in \u001b[0;36mAnimation._draw_next_frame\u001b[0;34m(self, framedata, blit)\u001b[0m\n\u001b[1;32m   1139\u001b[0m \u001b[38;5;28mself\u001b[39m\u001b[38;5;241m.\u001b[39m_pre_draw(framedata, blit)\n\u001b[1;32m   1140\u001b[0m \u001b[38;5;28mself\u001b[39m\u001b[38;5;241m.\u001b[39m_draw_frame(framedata)\n\u001b[0;32m-> 1141\u001b[0m \u001b[38;5;28mself\u001b[39m\u001b[38;5;241m.\u001b[39m_post_draw(framedata, blit)\n",
      "File \u001b[0;32m~/anaconda3/lib/python3.11/site-packages/matplotlib/animation.py:1166\u001b[0m, in \u001b[0;36mAnimation._post_draw\u001b[0;34m(self, framedata, blit)\u001b[0m\n\u001b[1;32m   1164\u001b[0m     \u001b[38;5;28mself\u001b[39m\u001b[38;5;241m.\u001b[39m_blit_draw(\u001b[38;5;28mself\u001b[39m\u001b[38;5;241m.\u001b[39m_drawn_artists)\n\u001b[1;32m   1165\u001b[0m \u001b[38;5;28;01melse\u001b[39;00m:\n\u001b[0;32m-> 1166\u001b[0m     \u001b[38;5;28mself\u001b[39m\u001b[38;5;241m.\u001b[39m_fig\u001b[38;5;241m.\u001b[39mcanvas\u001b[38;5;241m.\u001b[39mdraw_idle()\n",
      "File \u001b[0;32m~/anaconda3/lib/python3.11/site-packages/matplotlib/backend_bases.py:1893\u001b[0m, in \u001b[0;36mFigureCanvasBase.draw_idle\u001b[0;34m(self, *args, **kwargs)\u001b[0m\n\u001b[1;32m   1891\u001b[0m \u001b[38;5;28;01mif\u001b[39;00m \u001b[38;5;129;01mnot\u001b[39;00m \u001b[38;5;28mself\u001b[39m\u001b[38;5;241m.\u001b[39m_is_idle_drawing:\n\u001b[1;32m   1892\u001b[0m     \u001b[38;5;28;01mwith\u001b[39;00m \u001b[38;5;28mself\u001b[39m\u001b[38;5;241m.\u001b[39m_idle_draw_cntx():\n\u001b[0;32m-> 1893\u001b[0m         \u001b[38;5;28mself\u001b[39m\u001b[38;5;241m.\u001b[39mdraw(\u001b[38;5;241m*\u001b[39margs, \u001b[38;5;241m*\u001b[39m\u001b[38;5;241m*\u001b[39mkwargs)\n",
      "File \u001b[0;32m~/anaconda3/lib/python3.11/site-packages/matplotlib/backends/backend_agg.py:388\u001b[0m, in \u001b[0;36mFigureCanvasAgg.draw\u001b[0;34m(self)\u001b[0m\n\u001b[1;32m    385\u001b[0m \u001b[38;5;66;03m# Acquire a lock on the shared font cache.\u001b[39;00m\n\u001b[1;32m    386\u001b[0m \u001b[38;5;28;01mwith\u001b[39;00m (\u001b[38;5;28mself\u001b[39m\u001b[38;5;241m.\u001b[39mtoolbar\u001b[38;5;241m.\u001b[39m_wait_cursor_for_draw_cm() \u001b[38;5;28;01mif\u001b[39;00m \u001b[38;5;28mself\u001b[39m\u001b[38;5;241m.\u001b[39mtoolbar\n\u001b[1;32m    387\u001b[0m       \u001b[38;5;28;01melse\u001b[39;00m nullcontext()):\n\u001b[0;32m--> 388\u001b[0m     \u001b[38;5;28mself\u001b[39m\u001b[38;5;241m.\u001b[39mfigure\u001b[38;5;241m.\u001b[39mdraw(\u001b[38;5;28mself\u001b[39m\u001b[38;5;241m.\u001b[39mrenderer)\n\u001b[1;32m    389\u001b[0m     \u001b[38;5;66;03m# A GUI class may be need to update a window using this draw, so\u001b[39;00m\n\u001b[1;32m    390\u001b[0m     \u001b[38;5;66;03m# don't forget to call the superclass.\u001b[39;00m\n\u001b[1;32m    391\u001b[0m     \u001b[38;5;28msuper\u001b[39m()\u001b[38;5;241m.\u001b[39mdraw()\n",
      "File \u001b[0;32m~/anaconda3/lib/python3.11/site-packages/matplotlib/artist.py:95\u001b[0m, in \u001b[0;36m_finalize_rasterization.<locals>.draw_wrapper\u001b[0;34m(artist, renderer, *args, **kwargs)\u001b[0m\n\u001b[1;32m     93\u001b[0m \u001b[38;5;129m@wraps\u001b[39m(draw)\n\u001b[1;32m     94\u001b[0m \u001b[38;5;28;01mdef\u001b[39;00m \u001b[38;5;21mdraw_wrapper\u001b[39m(artist, renderer, \u001b[38;5;241m*\u001b[39margs, \u001b[38;5;241m*\u001b[39m\u001b[38;5;241m*\u001b[39mkwargs):\n\u001b[0;32m---> 95\u001b[0m     result \u001b[38;5;241m=\u001b[39m draw(artist, renderer, \u001b[38;5;241m*\u001b[39margs, \u001b[38;5;241m*\u001b[39m\u001b[38;5;241m*\u001b[39mkwargs)\n\u001b[1;32m     96\u001b[0m     \u001b[38;5;28;01mif\u001b[39;00m renderer\u001b[38;5;241m.\u001b[39m_rasterizing:\n\u001b[1;32m     97\u001b[0m         renderer\u001b[38;5;241m.\u001b[39mstop_rasterizing()\n",
      "File \u001b[0;32m~/anaconda3/lib/python3.11/site-packages/matplotlib/artist.py:72\u001b[0m, in \u001b[0;36mallow_rasterization.<locals>.draw_wrapper\u001b[0;34m(artist, renderer)\u001b[0m\n\u001b[1;32m     69\u001b[0m     \u001b[38;5;28;01mif\u001b[39;00m artist\u001b[38;5;241m.\u001b[39mget_agg_filter() \u001b[38;5;129;01mis\u001b[39;00m \u001b[38;5;129;01mnot\u001b[39;00m \u001b[38;5;28;01mNone\u001b[39;00m:\n\u001b[1;32m     70\u001b[0m         renderer\u001b[38;5;241m.\u001b[39mstart_filter()\n\u001b[0;32m---> 72\u001b[0m     \u001b[38;5;28;01mreturn\u001b[39;00m draw(artist, renderer)\n\u001b[1;32m     73\u001b[0m \u001b[38;5;28;01mfinally\u001b[39;00m:\n\u001b[1;32m     74\u001b[0m     \u001b[38;5;28;01mif\u001b[39;00m artist\u001b[38;5;241m.\u001b[39mget_agg_filter() \u001b[38;5;129;01mis\u001b[39;00m \u001b[38;5;129;01mnot\u001b[39;00m \u001b[38;5;28;01mNone\u001b[39;00m:\n",
      "File \u001b[0;32m~/anaconda3/lib/python3.11/site-packages/matplotlib/figure.py:3154\u001b[0m, in \u001b[0;36mFigure.draw\u001b[0;34m(self, renderer)\u001b[0m\n\u001b[1;32m   3151\u001b[0m         \u001b[38;5;66;03m# ValueError can occur when resizing a window.\u001b[39;00m\n\u001b[1;32m   3153\u001b[0m \u001b[38;5;28mself\u001b[39m\u001b[38;5;241m.\u001b[39mpatch\u001b[38;5;241m.\u001b[39mdraw(renderer)\n\u001b[0;32m-> 3154\u001b[0m mimage\u001b[38;5;241m.\u001b[39m_draw_list_compositing_images(\n\u001b[1;32m   3155\u001b[0m     renderer, \u001b[38;5;28mself\u001b[39m, artists, \u001b[38;5;28mself\u001b[39m\u001b[38;5;241m.\u001b[39msuppressComposite)\n\u001b[1;32m   3157\u001b[0m \u001b[38;5;28;01mfor\u001b[39;00m sfig \u001b[38;5;129;01min\u001b[39;00m \u001b[38;5;28mself\u001b[39m\u001b[38;5;241m.\u001b[39msubfigs:\n\u001b[1;32m   3158\u001b[0m     sfig\u001b[38;5;241m.\u001b[39mdraw(renderer)\n",
      "File \u001b[0;32m~/anaconda3/lib/python3.11/site-packages/matplotlib/image.py:132\u001b[0m, in \u001b[0;36m_draw_list_compositing_images\u001b[0;34m(renderer, parent, artists, suppress_composite)\u001b[0m\n\u001b[1;32m    130\u001b[0m \u001b[38;5;28;01mif\u001b[39;00m not_composite \u001b[38;5;129;01mor\u001b[39;00m \u001b[38;5;129;01mnot\u001b[39;00m has_images:\n\u001b[1;32m    131\u001b[0m     \u001b[38;5;28;01mfor\u001b[39;00m a \u001b[38;5;129;01min\u001b[39;00m artists:\n\u001b[0;32m--> 132\u001b[0m         a\u001b[38;5;241m.\u001b[39mdraw(renderer)\n\u001b[1;32m    133\u001b[0m \u001b[38;5;28;01melse\u001b[39;00m:\n\u001b[1;32m    134\u001b[0m     \u001b[38;5;66;03m# Composite any adjacent images together\u001b[39;00m\n\u001b[1;32m    135\u001b[0m     image_group \u001b[38;5;241m=\u001b[39m []\n",
      "File \u001b[0;32m~/anaconda3/lib/python3.11/site-packages/matplotlib/artist.py:72\u001b[0m, in \u001b[0;36mallow_rasterization.<locals>.draw_wrapper\u001b[0;34m(artist, renderer)\u001b[0m\n\u001b[1;32m     69\u001b[0m     \u001b[38;5;28;01mif\u001b[39;00m artist\u001b[38;5;241m.\u001b[39mget_agg_filter() \u001b[38;5;129;01mis\u001b[39;00m \u001b[38;5;129;01mnot\u001b[39;00m \u001b[38;5;28;01mNone\u001b[39;00m:\n\u001b[1;32m     70\u001b[0m         renderer\u001b[38;5;241m.\u001b[39mstart_filter()\n\u001b[0;32m---> 72\u001b[0m     \u001b[38;5;28;01mreturn\u001b[39;00m draw(artist, renderer)\n\u001b[1;32m     73\u001b[0m \u001b[38;5;28;01mfinally\u001b[39;00m:\n\u001b[1;32m     74\u001b[0m     \u001b[38;5;28;01mif\u001b[39;00m artist\u001b[38;5;241m.\u001b[39mget_agg_filter() \u001b[38;5;129;01mis\u001b[39;00m \u001b[38;5;129;01mnot\u001b[39;00m \u001b[38;5;28;01mNone\u001b[39;00m:\n",
      "File \u001b[0;32m~/anaconda3/lib/python3.11/site-packages/matplotlib/axes/_base.py:3070\u001b[0m, in \u001b[0;36m_AxesBase.draw\u001b[0;34m(self, renderer)\u001b[0m\n\u001b[1;32m   3067\u001b[0m \u001b[38;5;28;01mif\u001b[39;00m artists_rasterized:\n\u001b[1;32m   3068\u001b[0m     _draw_rasterized(\u001b[38;5;28mself\u001b[39m\u001b[38;5;241m.\u001b[39mfigure, artists_rasterized, renderer)\n\u001b[0;32m-> 3070\u001b[0m mimage\u001b[38;5;241m.\u001b[39m_draw_list_compositing_images(\n\u001b[1;32m   3071\u001b[0m     renderer, \u001b[38;5;28mself\u001b[39m, artists, \u001b[38;5;28mself\u001b[39m\u001b[38;5;241m.\u001b[39mfigure\u001b[38;5;241m.\u001b[39msuppressComposite)\n\u001b[1;32m   3073\u001b[0m renderer\u001b[38;5;241m.\u001b[39mclose_group(\u001b[38;5;124m'\u001b[39m\u001b[38;5;124maxes\u001b[39m\u001b[38;5;124m'\u001b[39m)\n\u001b[1;32m   3074\u001b[0m \u001b[38;5;28mself\u001b[39m\u001b[38;5;241m.\u001b[39mstale \u001b[38;5;241m=\u001b[39m \u001b[38;5;28;01mFalse\u001b[39;00m\n",
      "File \u001b[0;32m~/anaconda3/lib/python3.11/site-packages/matplotlib/image.py:132\u001b[0m, in \u001b[0;36m_draw_list_compositing_images\u001b[0;34m(renderer, parent, artists, suppress_composite)\u001b[0m\n\u001b[1;32m    130\u001b[0m \u001b[38;5;28;01mif\u001b[39;00m not_composite \u001b[38;5;129;01mor\u001b[39;00m \u001b[38;5;129;01mnot\u001b[39;00m has_images:\n\u001b[1;32m    131\u001b[0m     \u001b[38;5;28;01mfor\u001b[39;00m a \u001b[38;5;129;01min\u001b[39;00m artists:\n\u001b[0;32m--> 132\u001b[0m         a\u001b[38;5;241m.\u001b[39mdraw(renderer)\n\u001b[1;32m    133\u001b[0m \u001b[38;5;28;01melse\u001b[39;00m:\n\u001b[1;32m    134\u001b[0m     \u001b[38;5;66;03m# Composite any adjacent images together\u001b[39;00m\n\u001b[1;32m    135\u001b[0m     image_group \u001b[38;5;241m=\u001b[39m []\n",
      "File \u001b[0;32m~/anaconda3/lib/python3.11/site-packages/matplotlib/artist.py:72\u001b[0m, in \u001b[0;36mallow_rasterization.<locals>.draw_wrapper\u001b[0;34m(artist, renderer)\u001b[0m\n\u001b[1;32m     69\u001b[0m     \u001b[38;5;28;01mif\u001b[39;00m artist\u001b[38;5;241m.\u001b[39mget_agg_filter() \u001b[38;5;129;01mis\u001b[39;00m \u001b[38;5;129;01mnot\u001b[39;00m \u001b[38;5;28;01mNone\u001b[39;00m:\n\u001b[1;32m     70\u001b[0m         renderer\u001b[38;5;241m.\u001b[39mstart_filter()\n\u001b[0;32m---> 72\u001b[0m     \u001b[38;5;28;01mreturn\u001b[39;00m draw(artist, renderer)\n\u001b[1;32m     73\u001b[0m \u001b[38;5;28;01mfinally\u001b[39;00m:\n\u001b[1;32m     74\u001b[0m     \u001b[38;5;28;01mif\u001b[39;00m artist\u001b[38;5;241m.\u001b[39mget_agg_filter() \u001b[38;5;129;01mis\u001b[39;00m \u001b[38;5;129;01mnot\u001b[39;00m \u001b[38;5;28;01mNone\u001b[39;00m:\n",
      "File \u001b[0;32m~/anaconda3/lib/python3.11/site-packages/matplotlib/legend.py:780\u001b[0m, in \u001b[0;36mLegend.draw\u001b[0;34m(self, renderer)\u001b[0m\n\u001b[1;32m    777\u001b[0m     Shadow(\u001b[38;5;28mself\u001b[39m\u001b[38;5;241m.\u001b[39mlegendPatch, \u001b[38;5;241m*\u001b[39m\u001b[38;5;241m*\u001b[39m\u001b[38;5;28mself\u001b[39m\u001b[38;5;241m.\u001b[39m_shadow_props)\u001b[38;5;241m.\u001b[39mdraw(renderer)\n\u001b[1;32m    779\u001b[0m \u001b[38;5;28mself\u001b[39m\u001b[38;5;241m.\u001b[39mlegendPatch\u001b[38;5;241m.\u001b[39mdraw(renderer)\n\u001b[0;32m--> 780\u001b[0m \u001b[38;5;28mself\u001b[39m\u001b[38;5;241m.\u001b[39m_legend_box\u001b[38;5;241m.\u001b[39mdraw(renderer)\n\u001b[1;32m    782\u001b[0m renderer\u001b[38;5;241m.\u001b[39mclose_group(\u001b[38;5;124m'\u001b[39m\u001b[38;5;124mlegend\u001b[39m\u001b[38;5;124m'\u001b[39m)\n\u001b[1;32m    783\u001b[0m \u001b[38;5;28mself\u001b[39m\u001b[38;5;241m.\u001b[39mstale \u001b[38;5;241m=\u001b[39m \u001b[38;5;28;01mFalse\u001b[39;00m\n",
      "File \u001b[0;32m~/anaconda3/lib/python3.11/site-packages/matplotlib/artist.py:39\u001b[0m, in \u001b[0;36m_prevent_rasterization.<locals>.draw_wrapper\u001b[0;34m(artist, renderer, *args, **kwargs)\u001b[0m\n\u001b[1;32m     36\u001b[0m     renderer\u001b[38;5;241m.\u001b[39mstop_rasterizing()\n\u001b[1;32m     37\u001b[0m     renderer\u001b[38;5;241m.\u001b[39m_rasterizing \u001b[38;5;241m=\u001b[39m \u001b[38;5;28;01mFalse\u001b[39;00m\n\u001b[0;32m---> 39\u001b[0m \u001b[38;5;28;01mreturn\u001b[39;00m draw(artist, renderer, \u001b[38;5;241m*\u001b[39margs, \u001b[38;5;241m*\u001b[39m\u001b[38;5;241m*\u001b[39mkwargs)\n",
      "File \u001b[0;32m~/anaconda3/lib/python3.11/site-packages/matplotlib/offsetbox.py:415\u001b[0m, in \u001b[0;36mOffsetBox.draw\u001b[0;34m(self, renderer)\u001b[0m\n\u001b[1;32m    413\u001b[0m \u001b[38;5;28;01mfor\u001b[39;00m c, (ox, oy) \u001b[38;5;129;01min\u001b[39;00m \u001b[38;5;28mzip\u001b[39m(\u001b[38;5;28mself\u001b[39m\u001b[38;5;241m.\u001b[39mget_visible_children(), offsets):\n\u001b[1;32m    414\u001b[0m     c\u001b[38;5;241m.\u001b[39mset_offset((px \u001b[38;5;241m+\u001b[39m ox, py \u001b[38;5;241m+\u001b[39m oy))\n\u001b[0;32m--> 415\u001b[0m     c\u001b[38;5;241m.\u001b[39mdraw(renderer)\n\u001b[1;32m    416\u001b[0m _bbox_artist(\u001b[38;5;28mself\u001b[39m, renderer, fill\u001b[38;5;241m=\u001b[39m\u001b[38;5;28;01mFalse\u001b[39;00m, props\u001b[38;5;241m=\u001b[39m\u001b[38;5;28mdict\u001b[39m(pad\u001b[38;5;241m=\u001b[39m\u001b[38;5;241m0.\u001b[39m))\n\u001b[1;32m    417\u001b[0m \u001b[38;5;28mself\u001b[39m\u001b[38;5;241m.\u001b[39mstale \u001b[38;5;241m=\u001b[39m \u001b[38;5;28;01mFalse\u001b[39;00m\n",
      "File \u001b[0;32m~/anaconda3/lib/python3.11/site-packages/matplotlib/artist.py:39\u001b[0m, in \u001b[0;36m_prevent_rasterization.<locals>.draw_wrapper\u001b[0;34m(artist, renderer, *args, **kwargs)\u001b[0m\n\u001b[1;32m     36\u001b[0m     renderer\u001b[38;5;241m.\u001b[39mstop_rasterizing()\n\u001b[1;32m     37\u001b[0m     renderer\u001b[38;5;241m.\u001b[39m_rasterizing \u001b[38;5;241m=\u001b[39m \u001b[38;5;28;01mFalse\u001b[39;00m\n\u001b[0;32m---> 39\u001b[0m \u001b[38;5;28;01mreturn\u001b[39;00m draw(artist, renderer, \u001b[38;5;241m*\u001b[39margs, \u001b[38;5;241m*\u001b[39m\u001b[38;5;241m*\u001b[39mkwargs)\n",
      "File \u001b[0;32m~/anaconda3/lib/python3.11/site-packages/matplotlib/offsetbox.py:415\u001b[0m, in \u001b[0;36mOffsetBox.draw\u001b[0;34m(self, renderer)\u001b[0m\n\u001b[1;32m    413\u001b[0m \u001b[38;5;28;01mfor\u001b[39;00m c, (ox, oy) \u001b[38;5;129;01min\u001b[39;00m \u001b[38;5;28mzip\u001b[39m(\u001b[38;5;28mself\u001b[39m\u001b[38;5;241m.\u001b[39mget_visible_children(), offsets):\n\u001b[1;32m    414\u001b[0m     c\u001b[38;5;241m.\u001b[39mset_offset((px \u001b[38;5;241m+\u001b[39m ox, py \u001b[38;5;241m+\u001b[39m oy))\n\u001b[0;32m--> 415\u001b[0m     c\u001b[38;5;241m.\u001b[39mdraw(renderer)\n\u001b[1;32m    416\u001b[0m _bbox_artist(\u001b[38;5;28mself\u001b[39m, renderer, fill\u001b[38;5;241m=\u001b[39m\u001b[38;5;28;01mFalse\u001b[39;00m, props\u001b[38;5;241m=\u001b[39m\u001b[38;5;28mdict\u001b[39m(pad\u001b[38;5;241m=\u001b[39m\u001b[38;5;241m0.\u001b[39m))\n\u001b[1;32m    417\u001b[0m \u001b[38;5;28mself\u001b[39m\u001b[38;5;241m.\u001b[39mstale \u001b[38;5;241m=\u001b[39m \u001b[38;5;28;01mFalse\u001b[39;00m\n",
      "File \u001b[0;32m~/anaconda3/lib/python3.11/site-packages/matplotlib/artist.py:39\u001b[0m, in \u001b[0;36m_prevent_rasterization.<locals>.draw_wrapper\u001b[0;34m(artist, renderer, *args, **kwargs)\u001b[0m\n\u001b[1;32m     36\u001b[0m     renderer\u001b[38;5;241m.\u001b[39mstop_rasterizing()\n\u001b[1;32m     37\u001b[0m     renderer\u001b[38;5;241m.\u001b[39m_rasterizing \u001b[38;5;241m=\u001b[39m \u001b[38;5;28;01mFalse\u001b[39;00m\n\u001b[0;32m---> 39\u001b[0m \u001b[38;5;28;01mreturn\u001b[39;00m draw(artist, renderer, \u001b[38;5;241m*\u001b[39margs, \u001b[38;5;241m*\u001b[39m\u001b[38;5;241m*\u001b[39mkwargs)\n",
      "File \u001b[0;32m~/anaconda3/lib/python3.11/site-packages/matplotlib/offsetbox.py:411\u001b[0m, in \u001b[0;36mOffsetBox.draw\u001b[0;34m(self, renderer)\u001b[0m\n\u001b[1;32m    406\u001b[0m \u001b[38;5;28;01mdef\u001b[39;00m \u001b[38;5;21mdraw\u001b[39m(\u001b[38;5;28mself\u001b[39m, renderer):\n\u001b[1;32m    407\u001b[0m \u001b[38;5;250m    \u001b[39m\u001b[38;5;124;03m\"\"\"\u001b[39;00m\n\u001b[1;32m    408\u001b[0m \u001b[38;5;124;03m    Update the location of children if necessary and draw them\u001b[39;00m\n\u001b[1;32m    409\u001b[0m \u001b[38;5;124;03m    to the given *renderer*.\u001b[39;00m\n\u001b[1;32m    410\u001b[0m \u001b[38;5;124;03m    \"\"\"\u001b[39;00m\n\u001b[0;32m--> 411\u001b[0m     bbox, offsets \u001b[38;5;241m=\u001b[39m \u001b[38;5;28mself\u001b[39m\u001b[38;5;241m.\u001b[39m_get_bbox_and_child_offsets(renderer)\n\u001b[1;32m    412\u001b[0m     px, py \u001b[38;5;241m=\u001b[39m \u001b[38;5;28mself\u001b[39m\u001b[38;5;241m.\u001b[39mget_offset(bbox, renderer)\n\u001b[1;32m    413\u001b[0m     \u001b[38;5;28;01mfor\u001b[39;00m c, (ox, oy) \u001b[38;5;129;01min\u001b[39;00m \u001b[38;5;28mzip\u001b[39m(\u001b[38;5;28mself\u001b[39m\u001b[38;5;241m.\u001b[39mget_visible_children(), offsets):\n",
      "File \u001b[0;32m~/anaconda3/lib/python3.11/site-packages/matplotlib/offsetbox.py:484\u001b[0m, in \u001b[0;36mVPacker._get_bbox_and_child_offsets\u001b[0;34m(self, renderer)\u001b[0m\n\u001b[1;32m    481\u001b[0m         \u001b[38;5;28;01mif\u001b[39;00m \u001b[38;5;28misinstance\u001b[39m(c, PackerBase) \u001b[38;5;129;01mand\u001b[39;00m c\u001b[38;5;241m.\u001b[39mmode \u001b[38;5;241m==\u001b[39m \u001b[38;5;124m\"\u001b[39m\u001b[38;5;124mexpand\u001b[39m\u001b[38;5;124m\"\u001b[39m:\n\u001b[1;32m    482\u001b[0m             c\u001b[38;5;241m.\u001b[39mset_width(\u001b[38;5;28mself\u001b[39m\u001b[38;5;241m.\u001b[39mwidth)\n\u001b[0;32m--> 484\u001b[0m bboxes \u001b[38;5;241m=\u001b[39m [c\u001b[38;5;241m.\u001b[39mget_bbox(renderer) \u001b[38;5;28;01mfor\u001b[39;00m c \u001b[38;5;129;01min\u001b[39;00m \u001b[38;5;28mself\u001b[39m\u001b[38;5;241m.\u001b[39mget_visible_children()]\n\u001b[1;32m    485\u001b[0m (x0, x1), xoffsets \u001b[38;5;241m=\u001b[39m _get_aligned_offsets(\n\u001b[1;32m    486\u001b[0m     [bbox\u001b[38;5;241m.\u001b[39mintervalx \u001b[38;5;28;01mfor\u001b[39;00m bbox \u001b[38;5;129;01min\u001b[39;00m bboxes], \u001b[38;5;28mself\u001b[39m\u001b[38;5;241m.\u001b[39mwidth, \u001b[38;5;28mself\u001b[39m\u001b[38;5;241m.\u001b[39malign)\n\u001b[1;32m    487\u001b[0m height, yoffsets \u001b[38;5;241m=\u001b[39m _get_packed_offsets(\n\u001b[1;32m    488\u001b[0m     [bbox\u001b[38;5;241m.\u001b[39mheight \u001b[38;5;28;01mfor\u001b[39;00m bbox \u001b[38;5;129;01min\u001b[39;00m bboxes], \u001b[38;5;28mself\u001b[39m\u001b[38;5;241m.\u001b[39mheight, sep, \u001b[38;5;28mself\u001b[39m\u001b[38;5;241m.\u001b[39mmode)\n",
      "File \u001b[0;32m~/anaconda3/lib/python3.11/site-packages/matplotlib/offsetbox.py:484\u001b[0m, in \u001b[0;36m<listcomp>\u001b[0;34m(.0)\u001b[0m\n\u001b[1;32m    481\u001b[0m         \u001b[38;5;28;01mif\u001b[39;00m \u001b[38;5;28misinstance\u001b[39m(c, PackerBase) \u001b[38;5;129;01mand\u001b[39;00m c\u001b[38;5;241m.\u001b[39mmode \u001b[38;5;241m==\u001b[39m \u001b[38;5;124m\"\u001b[39m\u001b[38;5;124mexpand\u001b[39m\u001b[38;5;124m\"\u001b[39m:\n\u001b[1;32m    482\u001b[0m             c\u001b[38;5;241m.\u001b[39mset_width(\u001b[38;5;28mself\u001b[39m\u001b[38;5;241m.\u001b[39mwidth)\n\u001b[0;32m--> 484\u001b[0m bboxes \u001b[38;5;241m=\u001b[39m [c\u001b[38;5;241m.\u001b[39mget_bbox(renderer) \u001b[38;5;28;01mfor\u001b[39;00m c \u001b[38;5;129;01min\u001b[39;00m \u001b[38;5;28mself\u001b[39m\u001b[38;5;241m.\u001b[39mget_visible_children()]\n\u001b[1;32m    485\u001b[0m (x0, x1), xoffsets \u001b[38;5;241m=\u001b[39m _get_aligned_offsets(\n\u001b[1;32m    486\u001b[0m     [bbox\u001b[38;5;241m.\u001b[39mintervalx \u001b[38;5;28;01mfor\u001b[39;00m bbox \u001b[38;5;129;01min\u001b[39;00m bboxes], \u001b[38;5;28mself\u001b[39m\u001b[38;5;241m.\u001b[39mwidth, \u001b[38;5;28mself\u001b[39m\u001b[38;5;241m.\u001b[39malign)\n\u001b[1;32m    487\u001b[0m height, yoffsets \u001b[38;5;241m=\u001b[39m _get_packed_offsets(\n\u001b[1;32m    488\u001b[0m     [bbox\u001b[38;5;241m.\u001b[39mheight \u001b[38;5;28;01mfor\u001b[39;00m bbox \u001b[38;5;129;01min\u001b[39;00m bboxes], \u001b[38;5;28mself\u001b[39m\u001b[38;5;241m.\u001b[39mheight, sep, \u001b[38;5;28mself\u001b[39m\u001b[38;5;241m.\u001b[39mmode)\n",
      "File \u001b[0;32m~/anaconda3/lib/python3.11/site-packages/matplotlib/offsetbox.py:366\u001b[0m, in \u001b[0;36mOffsetBox.get_bbox\u001b[0;34m(self, renderer)\u001b[0m\n\u001b[1;32m    364\u001b[0m \u001b[38;5;28;01mdef\u001b[39;00m \u001b[38;5;21mget_bbox\u001b[39m(\u001b[38;5;28mself\u001b[39m, renderer):\n\u001b[1;32m    365\u001b[0m \u001b[38;5;250m    \u001b[39m\u001b[38;5;124;03m\"\"\"Return the bbox of the offsetbox, ignoring parent offsets.\"\"\"\u001b[39;00m\n\u001b[0;32m--> 366\u001b[0m     bbox, offsets \u001b[38;5;241m=\u001b[39m \u001b[38;5;28mself\u001b[39m\u001b[38;5;241m.\u001b[39m_get_bbox_and_child_offsets(renderer)\n\u001b[1;32m    367\u001b[0m     \u001b[38;5;28;01mreturn\u001b[39;00m bbox\n",
      "File \u001b[0;32m~/anaconda3/lib/python3.11/site-packages/matplotlib/offsetbox.py:511\u001b[0m, in \u001b[0;36mHPacker._get_bbox_and_child_offsets\u001b[0;34m(self, renderer)\u001b[0m\n\u001b[1;32m    508\u001b[0m pad \u001b[38;5;241m=\u001b[39m \u001b[38;5;28mself\u001b[39m\u001b[38;5;241m.\u001b[39mpad \u001b[38;5;241m*\u001b[39m dpicor\n\u001b[1;32m    509\u001b[0m sep \u001b[38;5;241m=\u001b[39m \u001b[38;5;28mself\u001b[39m\u001b[38;5;241m.\u001b[39msep \u001b[38;5;241m*\u001b[39m dpicor\n\u001b[0;32m--> 511\u001b[0m bboxes \u001b[38;5;241m=\u001b[39m [c\u001b[38;5;241m.\u001b[39mget_bbox(renderer) \u001b[38;5;28;01mfor\u001b[39;00m c \u001b[38;5;129;01min\u001b[39;00m \u001b[38;5;28mself\u001b[39m\u001b[38;5;241m.\u001b[39mget_visible_children()]\n\u001b[1;32m    512\u001b[0m \u001b[38;5;28;01mif\u001b[39;00m \u001b[38;5;129;01mnot\u001b[39;00m bboxes:\n\u001b[1;32m    513\u001b[0m     \u001b[38;5;28;01mreturn\u001b[39;00m Bbox\u001b[38;5;241m.\u001b[39mfrom_bounds(\u001b[38;5;241m0\u001b[39m, \u001b[38;5;241m0\u001b[39m, \u001b[38;5;241m0\u001b[39m, \u001b[38;5;241m0\u001b[39m)\u001b[38;5;241m.\u001b[39mpadded(pad), []\n",
      "File \u001b[0;32m~/anaconda3/lib/python3.11/site-packages/matplotlib/offsetbox.py:511\u001b[0m, in \u001b[0;36m<listcomp>\u001b[0;34m(.0)\u001b[0m\n\u001b[1;32m    508\u001b[0m pad \u001b[38;5;241m=\u001b[39m \u001b[38;5;28mself\u001b[39m\u001b[38;5;241m.\u001b[39mpad \u001b[38;5;241m*\u001b[39m dpicor\n\u001b[1;32m    509\u001b[0m sep \u001b[38;5;241m=\u001b[39m \u001b[38;5;28mself\u001b[39m\u001b[38;5;241m.\u001b[39msep \u001b[38;5;241m*\u001b[39m dpicor\n\u001b[0;32m--> 511\u001b[0m bboxes \u001b[38;5;241m=\u001b[39m [c\u001b[38;5;241m.\u001b[39mget_bbox(renderer) \u001b[38;5;28;01mfor\u001b[39;00m c \u001b[38;5;129;01min\u001b[39;00m \u001b[38;5;28mself\u001b[39m\u001b[38;5;241m.\u001b[39mget_visible_children()]\n\u001b[1;32m    512\u001b[0m \u001b[38;5;28;01mif\u001b[39;00m \u001b[38;5;129;01mnot\u001b[39;00m bboxes:\n\u001b[1;32m    513\u001b[0m     \u001b[38;5;28;01mreturn\u001b[39;00m Bbox\u001b[38;5;241m.\u001b[39mfrom_bounds(\u001b[38;5;241m0\u001b[39m, \u001b[38;5;241m0\u001b[39m, \u001b[38;5;241m0\u001b[39m, \u001b[38;5;241m0\u001b[39m)\u001b[38;5;241m.\u001b[39mpadded(pad), []\n",
      "File \u001b[0;32m~/anaconda3/lib/python3.11/site-packages/matplotlib/offsetbox.py:802\u001b[0m, in \u001b[0;36mTextArea.get_bbox\u001b[0;34m(self, renderer)\u001b[0m\n\u001b[1;32m    799\u001b[0m bbox, info, yd \u001b[38;5;241m=\u001b[39m \u001b[38;5;28mself\u001b[39m\u001b[38;5;241m.\u001b[39m_text\u001b[38;5;241m.\u001b[39m_get_layout(renderer)\n\u001b[1;32m    800\u001b[0m w, h \u001b[38;5;241m=\u001b[39m bbox\u001b[38;5;241m.\u001b[39msize\n\u001b[0;32m--> 802\u001b[0m \u001b[38;5;28mself\u001b[39m\u001b[38;5;241m.\u001b[39m_baseline_transform\u001b[38;5;241m.\u001b[39mclear()\n\u001b[1;32m    804\u001b[0m \u001b[38;5;28;01mif\u001b[39;00m \u001b[38;5;28mlen\u001b[39m(info) \u001b[38;5;241m>\u001b[39m \u001b[38;5;241m1\u001b[39m \u001b[38;5;129;01mand\u001b[39;00m \u001b[38;5;28mself\u001b[39m\u001b[38;5;241m.\u001b[39m_multilinebaseline:\n\u001b[1;32m    805\u001b[0m     yd_new \u001b[38;5;241m=\u001b[39m \u001b[38;5;241m0.5\u001b[39m \u001b[38;5;241m*\u001b[39m h \u001b[38;5;241m-\u001b[39m \u001b[38;5;241m0.5\u001b[39m \u001b[38;5;241m*\u001b[39m (h_ \u001b[38;5;241m-\u001b[39m d_)\n",
      "File \u001b[0;32m~/anaconda3/lib/python3.11/site-packages/matplotlib/transforms.py:1966\u001b[0m, in \u001b[0;36mAffine2D.clear\u001b[0;34m(self)\u001b[0m\n\u001b[1;32m   1963\u001b[0m     \u001b[38;5;28mself\u001b[39m\u001b[38;5;241m.\u001b[39m_mtx \u001b[38;5;241m=\u001b[39m other\u001b[38;5;241m.\u001b[39mget_matrix()\n\u001b[1;32m   1964\u001b[0m     \u001b[38;5;28mself\u001b[39m\u001b[38;5;241m.\u001b[39minvalidate()\n\u001b[0;32m-> 1966\u001b[0m \u001b[38;5;28;01mdef\u001b[39;00m \u001b[38;5;21mclear\u001b[39m(\u001b[38;5;28mself\u001b[39m):\n\u001b[1;32m   1967\u001b[0m \u001b[38;5;250m    \u001b[39m\u001b[38;5;124;03m\"\"\"\u001b[39;00m\n\u001b[1;32m   1968\u001b[0m \u001b[38;5;124;03m    Reset the underlying matrix to the identity transform.\u001b[39;00m\n\u001b[1;32m   1969\u001b[0m \u001b[38;5;124;03m    \"\"\"\u001b[39;00m\n\u001b[1;32m   1970\u001b[0m     \u001b[38;5;66;03m# A bit faster than np.identity(3).\u001b[39;00m\n",
      "\u001b[0;31mKeyboardInterrupt\u001b[0m: "
     ]
    },
    {
     "data": {
      "image/png": "[encoded data removed]",
      "text/plain": [
       "<Figure size 640x480 with 1 Axes>"
      ]
     },
     "metadata": {},
     "output_type": "display_data"
    }
   ],
   "source": [
    "def update(frame):\n",
    "    # Clear previous frame\n",
    "    plt.cla()\n",
    "\n",
    "    # Plot Path for current state\n",
    "    plt.scatter(plans[0][:, frame], plans[1][:, frame], c='g', s=20, label = \"Planned Trajectory\")\n",
    "\n",
    "    # Plot current state\n",
    "    drone = plt.Circle((x[0][frame], x[1][frame]), 0.7, color='r', fill=True, label = \"Drone\")\n",
    "    plt.gca().add_patch(drone)\n",
    "    \n",
    "    for obstacle in obstacles:\n",
    "        circle = plt.Circle((obstacle[0], obstacle[1]), obstacle[2], color='k', fill=True)\n",
    "        plt.gca().add_patch(circle)\n",
    "\n",
    "\n",
    "    plt.legend()\n",
    "    plt.title(f'Time Step {frame + 1}/{len(x[1])}')  # Set title for each frame\n",
    "    plt.xlabel('X-axis')\n",
    "    plt.ylabel('Y-axis')\n",
    "    plt.xlim(pos_constraints[0], pos_constraints[1])\n",
    "    plt.ylim(pos_constraints[2], pos_constraints[3])\n",
    "    plt.grid()\n",
    "\n",
    "# Create the animation\n",
    "fig = plt.figure()\n",
    "ani = FuncAnimation(fig, update, frames=len(x[1]), interval=50)\n",
    "\n",
    "# Display the animation within the Jupyter Notebook using HTML\n",
    "HTML(ani.to_jshtml())\n"
   ]
  },
  {
   "cell_type": "code",
   "execution_count": null,
   "metadata": {},
   "outputs": [],
   "source": []
  }
 ],
 "metadata": {
  "kernelspec": {
   "display_name": "Python 3 (ipykernel)",
   "language": "python",
   "name": "python3"
  },
  "language_info": {
   "codemirror_mode": {
    "name": "ipython",
    "version": 3
   },
   "file_extension": ".py",
   "mimetype": "text/x-python",
   "name": "python",
   "nbconvert_exporter": "python",
   "pygments_lexer": "ipython3",
   "version": "3.11.5"
  }
 },
 "nbformat": 4,
 "nbformat_minor": 4
}
